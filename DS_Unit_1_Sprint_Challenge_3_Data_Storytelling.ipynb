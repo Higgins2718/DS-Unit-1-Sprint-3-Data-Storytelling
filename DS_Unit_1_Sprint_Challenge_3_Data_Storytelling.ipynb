{
  "nbformat": 4,
  "nbformat_minor": 0,
  "metadata": {
    "colab": {
      "name": "DS_Unit_1_Sprint_Challenge_3_Data_Storytelling.ipynb",
      "version": "0.3.2",
      "provenance": [],
      "collapsed_sections": [],
      "include_colab_link": true
    },
    "kernelspec": {
      "display_name": "Python 3",
      "language": "python",
      "name": "python3"
    }
  },
  "cells": [
    {
      "cell_type": "markdown",
      "metadata": {
        "id": "view-in-github",
        "colab_type": "text"
      },
      "source": [
        "<a href=\"https://colab.research.google.com/github/Higgins2718/DS-Unit-1-Sprint-3-Data-Storytelling/blob/master/DS_Unit_1_Sprint_Challenge_3_Data_Storytelling.ipynb\" target=\"_parent\"><img src=\"https://colab.research.google.com/assets/colab-badge.svg\" alt=\"Open In Colab\"/></a>"
      ]
    },
    {
      "metadata": {
        "colab_type": "text",
        "id": "i-n_5en3ER1o"
      },
      "cell_type": "markdown",
      "source": [
        "# Data Science Unit 1 Sprint Challenge 3\n",
        "\n",
        "# Data Storytelling\n",
        "\n",
        "In this sprint challenge you'll work with a dataset from **FiveThirtyEight's article, [Every Guest Jon Stewart Ever Had On ‘The Daily Show’](https://fivethirtyeight.com/features/every-guest-jon-stewart-ever-had-on-the-daily-show/)**!"
      ]
    },
    {
      "metadata": {
        "colab_type": "text",
        "id": "Thm2n5FF2Fnp"
      },
      "cell_type": "markdown",
      "source": [
        "# Part 0 — Run this starter code\n",
        "\n",
        "You don't need to add or change anything here. Just run this cell and it loads the data for you, into a dataframe named `df`.\n",
        "\n",
        "(You can explore the data if you want, but it's not required to pass the Sprint Challenge.)"
      ]
    },
    {
      "metadata": {
        "colab_type": "code",
        "id": "0rTHgzJIuRS7",
        "colab": {}
      },
      "cell_type": "code",
      "source": [
        "%matplotlib inline\n",
        "import matplotlib.pyplot as plt\n",
        "import numpy as np\n",
        "import pandas as pd\n",
        "\n",
        "url = 'https://raw.githubusercontent.com/fivethirtyeight/data/master/daily-show-guests/daily_show_guests.csv'\n",
        "df = pd.read_csv(url).rename(columns={'YEAR': 'Year', 'Raw_Guest_List': 'Guest'})\n",
        "\n",
        "def get_occupation(group):\n",
        "    if group in ['Acting', 'Comedy', 'Musician']:\n",
        "        return 'Acting, Comedy & Music'\n",
        "    elif group in ['Media', 'media']:\n",
        "        return 'Media'\n",
        "    elif group in ['Government', 'Politician', 'Political Aide']:\n",
        "        return 'Government and Politics'\n",
        "    else:\n",
        "        return 'Other'\n",
        "      \n",
        "df['Occupation'] = df['Group'].apply(get_occupation)"
      ],
      "execution_count": 0,
      "outputs": []
    },
    {
      "metadata": {
        "colab_type": "text",
        "id": "OS0nW1vz1itX"
      },
      "cell_type": "markdown",
      "source": [
        "# Part 1 — What's the breakdown of guests’ occupations per year?\n",
        "\n",
        "For example, in 1999, what percentage of guests were actors, comedians, or musicians? What percentage were in the media? What percentage were in politics? What percentage were from another occupation?\n",
        "\n",
        "Then, what about in 2000? In 2001? And so on, up through 2015.\n",
        "\n",
        "So, **for each year of _The Daily Show_, calculate the percentage of guests from each occupation:**\n",
        "- Acting, Comedy & Music\n",
        "- Government and Politics\n",
        "- Media\n",
        "- Other\n",
        "\n",
        "#### Hints:\n",
        "You can make a crosstab. (See pandas documentation for examples, explanation, and parameters.)\n",
        "\n",
        "You'll know you've calculated correctly when the percentage of \"Acting, Comedy & Music\" guests is 90.36% in 1999, and 45% in 2015.\n",
        "\n",
        "**Optional Bonus Challenge:** Do additional insightful data exploration."
      ]
    },
    {
      "metadata": {
        "colab_type": "code",
        "id": "sRMc0H_5z6ff",
        "colab": {
          "base_uri": "https://localhost:8080/",
          "height": 204
        },
        "outputId": "0dfb151b-d841-4589-da45-634817231698"
      },
      "cell_type": "code",
      "source": [
        "# Exploring dataset\n",
        "\n",
        "df.head()"
      ],
      "execution_count": 2,
      "outputs": [
        {
          "output_type": "execute_result",
          "data": {
            "text/html": [
              "<div>\n",
              "<style scoped>\n",
              "    .dataframe tbody tr th:only-of-type {\n",
              "        vertical-align: middle;\n",
              "    }\n",
              "\n",
              "    .dataframe tbody tr th {\n",
              "        vertical-align: top;\n",
              "    }\n",
              "\n",
              "    .dataframe thead th {\n",
              "        text-align: right;\n",
              "    }\n",
              "</style>\n",
              "<table border=\"1\" class=\"dataframe\">\n",
              "  <thead>\n",
              "    <tr style=\"text-align: right;\">\n",
              "      <th></th>\n",
              "      <th>Year</th>\n",
              "      <th>GoogleKnowlege_Occupation</th>\n",
              "      <th>Show</th>\n",
              "      <th>Group</th>\n",
              "      <th>Guest</th>\n",
              "      <th>Occupation</th>\n",
              "    </tr>\n",
              "  </thead>\n",
              "  <tbody>\n",
              "    <tr>\n",
              "      <th>0</th>\n",
              "      <td>1999</td>\n",
              "      <td>actor</td>\n",
              "      <td>1/11/99</td>\n",
              "      <td>Acting</td>\n",
              "      <td>Michael J. Fox</td>\n",
              "      <td>Acting, Comedy &amp; Music</td>\n",
              "    </tr>\n",
              "    <tr>\n",
              "      <th>1</th>\n",
              "      <td>1999</td>\n",
              "      <td>Comedian</td>\n",
              "      <td>1/12/99</td>\n",
              "      <td>Comedy</td>\n",
              "      <td>Sandra Bernhard</td>\n",
              "      <td>Acting, Comedy &amp; Music</td>\n",
              "    </tr>\n",
              "    <tr>\n",
              "      <th>2</th>\n",
              "      <td>1999</td>\n",
              "      <td>television actress</td>\n",
              "      <td>1/13/99</td>\n",
              "      <td>Acting</td>\n",
              "      <td>Tracey Ullman</td>\n",
              "      <td>Acting, Comedy &amp; Music</td>\n",
              "    </tr>\n",
              "    <tr>\n",
              "      <th>3</th>\n",
              "      <td>1999</td>\n",
              "      <td>film actress</td>\n",
              "      <td>1/14/99</td>\n",
              "      <td>Acting</td>\n",
              "      <td>Gillian Anderson</td>\n",
              "      <td>Acting, Comedy &amp; Music</td>\n",
              "    </tr>\n",
              "    <tr>\n",
              "      <th>4</th>\n",
              "      <td>1999</td>\n",
              "      <td>actor</td>\n",
              "      <td>1/18/99</td>\n",
              "      <td>Acting</td>\n",
              "      <td>David Alan Grier</td>\n",
              "      <td>Acting, Comedy &amp; Music</td>\n",
              "    </tr>\n",
              "  </tbody>\n",
              "</table>\n",
              "</div>"
            ],
            "text/plain": [
              "   Year GoogleKnowlege_Occupation     Show   Group             Guest  \\\n",
              "0  1999                     actor  1/11/99  Acting    Michael J. Fox   \n",
              "1  1999                  Comedian  1/12/99  Comedy   Sandra Bernhard   \n",
              "2  1999        television actress  1/13/99  Acting     Tracey Ullman   \n",
              "3  1999              film actress  1/14/99  Acting  Gillian Anderson   \n",
              "4  1999                     actor  1/18/99  Acting  David Alan Grier   \n",
              "\n",
              "               Occupation  \n",
              "0  Acting, Comedy & Music  \n",
              "1  Acting, Comedy & Music  \n",
              "2  Acting, Comedy & Music  \n",
              "3  Acting, Comedy & Music  \n",
              "4  Acting, Comedy & Music  "
            ]
          },
          "metadata": {
            "tags": []
          },
          "execution_count": 2
        }
      ]
    },
    {
      "metadata": {
        "id": "8X_7DaoVZ1ou",
        "colab_type": "code",
        "colab": {}
      },
      "cell_type": "code",
      "source": [
        "# Removing \"Other\" category\n",
        "# It will not be useful in the graph\n",
        "\n",
        "df = df[df.Occupation != \"Other\"]"
      ],
      "execution_count": 0,
      "outputs": []
    },
    {
      "metadata": {
        "id": "VETK69KmGPhI",
        "colab_type": "code",
        "colab": {
          "base_uri": "https://localhost:8080/",
          "height": 244
        },
        "outputId": "22c750f5-7f7e-4422-ccf9-8d4c91a3da0d"
      },
      "cell_type": "code",
      "source": [
        "# Creating a cross tab that will tell us the percentage of each occupation guests held by year\n",
        "\n",
        "occupation_by_year_crosstab = (pd.crosstab(df['Occupation'], \n",
        "            df['Year'], \n",
        "            normalize='columns') * 100)\n",
        "\n",
        "# Examining the crosstab\n",
        "\n",
        "occupation_by_year_crosstab"
      ],
      "execution_count": 10,
      "outputs": [
        {
          "output_type": "execute_result",
          "data": {
            "text/html": [
              "<div>\n",
              "<style scoped>\n",
              "    .dataframe tbody tr th:only-of-type {\n",
              "        vertical-align: middle;\n",
              "    }\n",
              "\n",
              "    .dataframe tbody tr th {\n",
              "        vertical-align: top;\n",
              "    }\n",
              "\n",
              "    .dataframe thead th {\n",
              "        text-align: right;\n",
              "    }\n",
              "</style>\n",
              "<table border=\"1\" class=\"dataframe\">\n",
              "  <thead>\n",
              "    <tr style=\"text-align: right;\">\n",
              "      <th>Year</th>\n",
              "      <th>1999</th>\n",
              "      <th>2000</th>\n",
              "      <th>2001</th>\n",
              "      <th>2002</th>\n",
              "      <th>2003</th>\n",
              "      <th>2004</th>\n",
              "      <th>2005</th>\n",
              "      <th>2006</th>\n",
              "      <th>2007</th>\n",
              "      <th>2008</th>\n",
              "      <th>2009</th>\n",
              "      <th>2010</th>\n",
              "      <th>2011</th>\n",
              "      <th>2012</th>\n",
              "      <th>2013</th>\n",
              "      <th>2014</th>\n",
              "      <th>2015</th>\n",
              "    </tr>\n",
              "    <tr>\n",
              "      <th>Occupation</th>\n",
              "      <th></th>\n",
              "      <th></th>\n",
              "      <th></th>\n",
              "      <th></th>\n",
              "      <th></th>\n",
              "      <th></th>\n",
              "      <th></th>\n",
              "      <th></th>\n",
              "      <th></th>\n",
              "      <th></th>\n",
              "      <th></th>\n",
              "      <th></th>\n",
              "      <th></th>\n",
              "      <th></th>\n",
              "      <th></th>\n",
              "      <th></th>\n",
              "      <th></th>\n",
              "    </tr>\n",
              "  </thead>\n",
              "  <tbody>\n",
              "    <tr>\n",
              "      <th>Acting, Comedy &amp; Music</th>\n",
              "      <td>92.024540</td>\n",
              "      <td>78.125</td>\n",
              "      <td>75.496689</td>\n",
              "      <td>65.131579</td>\n",
              "      <td>61.589404</td>\n",
              "      <td>43.448276</td>\n",
              "      <td>42.857143</td>\n",
              "      <td>42.647059</td>\n",
              "      <td>33.644860</td>\n",
              "      <td>23.611111</td>\n",
              "      <td>26.771654</td>\n",
              "      <td>42.028986</td>\n",
              "      <td>41.353383</td>\n",
              "      <td>34.108527</td>\n",
              "      <td>49.650350</td>\n",
              "      <td>46.376812</td>\n",
              "      <td>52.325581</td>\n",
              "    </tr>\n",
              "    <tr>\n",
              "      <th>Government and Politics</th>\n",
              "      <td>1.226994</td>\n",
              "      <td>8.750</td>\n",
              "      <td>3.973510</td>\n",
              "      <td>7.236842</td>\n",
              "      <td>11.258278</td>\n",
              "      <td>25.517241</td>\n",
              "      <td>18.571429</td>\n",
              "      <td>22.794118</td>\n",
              "      <td>22.429907</td>\n",
              "      <td>22.916667</td>\n",
              "      <td>26.771654</td>\n",
              "      <td>21.739130</td>\n",
              "      <td>20.300752</td>\n",
              "      <td>25.581395</td>\n",
              "      <td>14.685315</td>\n",
              "      <td>15.217391</td>\n",
              "      <td>19.767442</td>\n",
              "    </tr>\n",
              "    <tr>\n",
              "      <th>Media</th>\n",
              "      <td>6.748466</td>\n",
              "      <td>13.125</td>\n",
              "      <td>20.529801</td>\n",
              "      <td>27.631579</td>\n",
              "      <td>27.152318</td>\n",
              "      <td>31.034483</td>\n",
              "      <td>38.571429</td>\n",
              "      <td>34.558824</td>\n",
              "      <td>43.925234</td>\n",
              "      <td>53.472222</td>\n",
              "      <td>46.456693</td>\n",
              "      <td>36.231884</td>\n",
              "      <td>38.345865</td>\n",
              "      <td>40.310078</td>\n",
              "      <td>35.664336</td>\n",
              "      <td>38.405797</td>\n",
              "      <td>27.906977</td>\n",
              "    </tr>\n",
              "  </tbody>\n",
              "</table>\n",
              "</div>"
            ],
            "text/plain": [
              "Year                          1999    2000       2001       2002       2003  \\\n",
              "Occupation                                                                    \n",
              "Acting, Comedy & Music   92.024540  78.125  75.496689  65.131579  61.589404   \n",
              "Government and Politics   1.226994   8.750   3.973510   7.236842  11.258278   \n",
              "Media                     6.748466  13.125  20.529801  27.631579  27.152318   \n",
              "\n",
              "Year                          2004       2005       2006       2007  \\\n",
              "Occupation                                                            \n",
              "Acting, Comedy & Music   43.448276  42.857143  42.647059  33.644860   \n",
              "Government and Politics  25.517241  18.571429  22.794118  22.429907   \n",
              "Media                    31.034483  38.571429  34.558824  43.925234   \n",
              "\n",
              "Year                          2008       2009       2010       2011  \\\n",
              "Occupation                                                            \n",
              "Acting, Comedy & Music   23.611111  26.771654  42.028986  41.353383   \n",
              "Government and Politics  22.916667  26.771654  21.739130  20.300752   \n",
              "Media                    53.472222  46.456693  36.231884  38.345865   \n",
              "\n",
              "Year                          2012       2013       2014       2015  \n",
              "Occupation                                                           \n",
              "Acting, Comedy & Music   34.108527  49.650350  46.376812  52.325581  \n",
              "Government and Politics  25.581395  14.685315  15.217391  19.767442  \n",
              "Media                    40.310078  35.664336  38.405797  27.906977  "
            ]
          },
          "metadata": {
            "tags": []
          },
          "execution_count": 10
        }
      ]
    },
    {
      "metadata": {
        "id": "IbAFpjORLcPJ",
        "colab_type": "code",
        "colab": {
          "base_uri": "https://localhost:8080/",
          "height": 607
        },
        "outputId": "209932fc-e8ff-49a7-e6cc-00aa48ca7a5d"
      },
      "cell_type": "code",
      "source": [
        "# Transposing the crosstab so it can be graphed\n",
        "\n",
        "occupation_by_year_crosstab.T"
      ],
      "execution_count": 11,
      "outputs": [
        {
          "output_type": "execute_result",
          "data": {
            "text/html": [
              "<div>\n",
              "<style scoped>\n",
              "    .dataframe tbody tr th:only-of-type {\n",
              "        vertical-align: middle;\n",
              "    }\n",
              "\n",
              "    .dataframe tbody tr th {\n",
              "        vertical-align: top;\n",
              "    }\n",
              "\n",
              "    .dataframe thead th {\n",
              "        text-align: right;\n",
              "    }\n",
              "</style>\n",
              "<table border=\"1\" class=\"dataframe\">\n",
              "  <thead>\n",
              "    <tr style=\"text-align: right;\">\n",
              "      <th>Occupation</th>\n",
              "      <th>Acting, Comedy &amp; Music</th>\n",
              "      <th>Government and Politics</th>\n",
              "      <th>Media</th>\n",
              "    </tr>\n",
              "    <tr>\n",
              "      <th>Year</th>\n",
              "      <th></th>\n",
              "      <th></th>\n",
              "      <th></th>\n",
              "    </tr>\n",
              "  </thead>\n",
              "  <tbody>\n",
              "    <tr>\n",
              "      <th>1999</th>\n",
              "      <td>92.024540</td>\n",
              "      <td>1.226994</td>\n",
              "      <td>6.748466</td>\n",
              "    </tr>\n",
              "    <tr>\n",
              "      <th>2000</th>\n",
              "      <td>78.125000</td>\n",
              "      <td>8.750000</td>\n",
              "      <td>13.125000</td>\n",
              "    </tr>\n",
              "    <tr>\n",
              "      <th>2001</th>\n",
              "      <td>75.496689</td>\n",
              "      <td>3.973510</td>\n",
              "      <td>20.529801</td>\n",
              "    </tr>\n",
              "    <tr>\n",
              "      <th>2002</th>\n",
              "      <td>65.131579</td>\n",
              "      <td>7.236842</td>\n",
              "      <td>27.631579</td>\n",
              "    </tr>\n",
              "    <tr>\n",
              "      <th>2003</th>\n",
              "      <td>61.589404</td>\n",
              "      <td>11.258278</td>\n",
              "      <td>27.152318</td>\n",
              "    </tr>\n",
              "    <tr>\n",
              "      <th>2004</th>\n",
              "      <td>43.448276</td>\n",
              "      <td>25.517241</td>\n",
              "      <td>31.034483</td>\n",
              "    </tr>\n",
              "    <tr>\n",
              "      <th>2005</th>\n",
              "      <td>42.857143</td>\n",
              "      <td>18.571429</td>\n",
              "      <td>38.571429</td>\n",
              "    </tr>\n",
              "    <tr>\n",
              "      <th>2006</th>\n",
              "      <td>42.647059</td>\n",
              "      <td>22.794118</td>\n",
              "      <td>34.558824</td>\n",
              "    </tr>\n",
              "    <tr>\n",
              "      <th>2007</th>\n",
              "      <td>33.644860</td>\n",
              "      <td>22.429907</td>\n",
              "      <td>43.925234</td>\n",
              "    </tr>\n",
              "    <tr>\n",
              "      <th>2008</th>\n",
              "      <td>23.611111</td>\n",
              "      <td>22.916667</td>\n",
              "      <td>53.472222</td>\n",
              "    </tr>\n",
              "    <tr>\n",
              "      <th>2009</th>\n",
              "      <td>26.771654</td>\n",
              "      <td>26.771654</td>\n",
              "      <td>46.456693</td>\n",
              "    </tr>\n",
              "    <tr>\n",
              "      <th>2010</th>\n",
              "      <td>42.028986</td>\n",
              "      <td>21.739130</td>\n",
              "      <td>36.231884</td>\n",
              "    </tr>\n",
              "    <tr>\n",
              "      <th>2011</th>\n",
              "      <td>41.353383</td>\n",
              "      <td>20.300752</td>\n",
              "      <td>38.345865</td>\n",
              "    </tr>\n",
              "    <tr>\n",
              "      <th>2012</th>\n",
              "      <td>34.108527</td>\n",
              "      <td>25.581395</td>\n",
              "      <td>40.310078</td>\n",
              "    </tr>\n",
              "    <tr>\n",
              "      <th>2013</th>\n",
              "      <td>49.650350</td>\n",
              "      <td>14.685315</td>\n",
              "      <td>35.664336</td>\n",
              "    </tr>\n",
              "    <tr>\n",
              "      <th>2014</th>\n",
              "      <td>46.376812</td>\n",
              "      <td>15.217391</td>\n",
              "      <td>38.405797</td>\n",
              "    </tr>\n",
              "    <tr>\n",
              "      <th>2015</th>\n",
              "      <td>52.325581</td>\n",
              "      <td>19.767442</td>\n",
              "      <td>27.906977</td>\n",
              "    </tr>\n",
              "  </tbody>\n",
              "</table>\n",
              "</div>"
            ],
            "text/plain": [
              "Occupation  Acting, Comedy & Music  Government and Politics      Media\n",
              "Year                                                                  \n",
              "1999                     92.024540                 1.226994   6.748466\n",
              "2000                     78.125000                 8.750000  13.125000\n",
              "2001                     75.496689                 3.973510  20.529801\n",
              "2002                     65.131579                 7.236842  27.631579\n",
              "2003                     61.589404                11.258278  27.152318\n",
              "2004                     43.448276                25.517241  31.034483\n",
              "2005                     42.857143                18.571429  38.571429\n",
              "2006                     42.647059                22.794118  34.558824\n",
              "2007                     33.644860                22.429907  43.925234\n",
              "2008                     23.611111                22.916667  53.472222\n",
              "2009                     26.771654                26.771654  46.456693\n",
              "2010                     42.028986                21.739130  36.231884\n",
              "2011                     41.353383                20.300752  38.345865\n",
              "2012                     34.108527                25.581395  40.310078\n",
              "2013                     49.650350                14.685315  35.664336\n",
              "2014                     46.376812                15.217391  38.405797\n",
              "2015                     52.325581                19.767442  27.906977"
            ]
          },
          "metadata": {
            "tags": []
          },
          "execution_count": 11
        }
      ]
    },
    {
      "metadata": {
        "colab_type": "text",
        "id": "Nqf9oJJDDu-d"
      },
      "cell_type": "markdown",
      "source": [
        "# Part 2 — Recreate this explanatory visualization:"
      ]
    },
    {
      "metadata": {
        "colab_type": "code",
        "id": "scozkHQc0_eD",
        "outputId": "c3c65e62-2473-42de-b023-7b16ea807041",
        "colab": {
          "base_uri": "https://localhost:8080/",
          "height": 406
        }
      },
      "cell_type": "code",
      "source": [
        "from IPython.display import display, Image\n",
        "png = 'https://fivethirtyeight.com/wp-content/uploads/2015/08/hickey-datalab-dailyshow.png'\n",
        "example = Image(png, width=500)\n",
        "display(example)"
      ],
      "execution_count": 12,
      "outputs": [
        {
          "output_type": "display_data",
          "data": {
            "image/png": "[encoded data removed]",
            "text/plain": [
              "<IPython.core.display.Image object>"
            ]
          },
          "metadata": {
            "tags": [],
            "image/png": {
              "width": 500
            }
          }
        }
      ]
    },
    {
      "metadata": {
        "colab_type": "text",
        "id": "W7lw3JzAE6BJ"
      },
      "cell_type": "markdown",
      "source": [
        "**Hints:**\n",
        "- You can choose any Python visualization library you want. I've verified the plot can be reproduced with matplotlib, pandas plot, or seaborn. I assume other libraries like altair or plotly would work too.\n",
        "- If you choose to use seaborn, you may want to upgrade the version to 0.9.0.\n",
        "\n",
        "**Expectations:** Your plot should include:\n",
        "- 3 lines visualizing \"occupation of guests, by year.\" The shapes of the lines should look roughly identical to 538's example. Each line should be a different color. (But you don't need to use the _same_ colors as 538.)\n",
        "- Legend or labels for the lines. (But you don't need each label positioned next to its line or colored like 538.)\n",
        "- Title in the upper left: _\"Who Got To Be On 'The Daily Show'?\"_ with more visual emphasis than the subtitle. (Bolder and/or larger font.)\n",
        "- Subtitle underneath the title: _\"Occupation of guests, by year\"_\n",
        "\n",
        "**Optional Bonus Challenge:**\n",
        "- Give your plot polished aesthetics, with improved resemblance to the 538 example.\n",
        "- Any visual element not specifically mentioned in the expectations is an optional bonus."
      ]
    },
    {
      "metadata": {
        "id": "OssRhdskKTUt",
        "colab_type": "code",
        "colab": {
          "base_uri": "https://localhost:8080/",
          "height": 244
        },
        "outputId": "68bfc936-b98d-4930-c827-eef69a201e66"
      },
      "cell_type": "code",
      "source": [
        "# Displaying the crosstab for reference while graphing\n",
        "\n",
        "occupation_by_year_crosstab.head()"
      ],
      "execution_count": 13,
      "outputs": [
        {
          "output_type": "execute_result",
          "data": {
            "text/html": [
              "<div>\n",
              "<style scoped>\n",
              "    .dataframe tbody tr th:only-of-type {\n",
              "        vertical-align: middle;\n",
              "    }\n",
              "\n",
              "    .dataframe tbody tr th {\n",
              "        vertical-align: top;\n",
              "    }\n",
              "\n",
              "    .dataframe thead th {\n",
              "        text-align: right;\n",
              "    }\n",
              "</style>\n",
              "<table border=\"1\" class=\"dataframe\">\n",
              "  <thead>\n",
              "    <tr style=\"text-align: right;\">\n",
              "      <th>Year</th>\n",
              "      <th>1999</th>\n",
              "      <th>2000</th>\n",
              "      <th>2001</th>\n",
              "      <th>2002</th>\n",
              "      <th>2003</th>\n",
              "      <th>2004</th>\n",
              "      <th>2005</th>\n",
              "      <th>2006</th>\n",
              "      <th>2007</th>\n",
              "      <th>2008</th>\n",
              "      <th>2009</th>\n",
              "      <th>2010</th>\n",
              "      <th>2011</th>\n",
              "      <th>2012</th>\n",
              "      <th>2013</th>\n",
              "      <th>2014</th>\n",
              "      <th>2015</th>\n",
              "    </tr>\n",
              "    <tr>\n",
              "      <th>Occupation</th>\n",
              "      <th></th>\n",
              "      <th></th>\n",
              "      <th></th>\n",
              "      <th></th>\n",
              "      <th></th>\n",
              "      <th></th>\n",
              "      <th></th>\n",
              "      <th></th>\n",
              "      <th></th>\n",
              "      <th></th>\n",
              "      <th></th>\n",
              "      <th></th>\n",
              "      <th></th>\n",
              "      <th></th>\n",
              "      <th></th>\n",
              "      <th></th>\n",
              "      <th></th>\n",
              "    </tr>\n",
              "  </thead>\n",
              "  <tbody>\n",
              "    <tr>\n",
              "      <th>Acting, Comedy &amp; Music</th>\n",
              "      <td>92.024540</td>\n",
              "      <td>78.125</td>\n",
              "      <td>75.496689</td>\n",
              "      <td>65.131579</td>\n",
              "      <td>61.589404</td>\n",
              "      <td>43.448276</td>\n",
              "      <td>42.857143</td>\n",
              "      <td>42.647059</td>\n",
              "      <td>33.644860</td>\n",
              "      <td>23.611111</td>\n",
              "      <td>26.771654</td>\n",
              "      <td>42.028986</td>\n",
              "      <td>41.353383</td>\n",
              "      <td>34.108527</td>\n",
              "      <td>49.650350</td>\n",
              "      <td>46.376812</td>\n",
              "      <td>52.325581</td>\n",
              "    </tr>\n",
              "    <tr>\n",
              "      <th>Government and Politics</th>\n",
              "      <td>1.226994</td>\n",
              "      <td>8.750</td>\n",
              "      <td>3.973510</td>\n",
              "      <td>7.236842</td>\n",
              "      <td>11.258278</td>\n",
              "      <td>25.517241</td>\n",
              "      <td>18.571429</td>\n",
              "      <td>22.794118</td>\n",
              "      <td>22.429907</td>\n",
              "      <td>22.916667</td>\n",
              "      <td>26.771654</td>\n",
              "      <td>21.739130</td>\n",
              "      <td>20.300752</td>\n",
              "      <td>25.581395</td>\n",
              "      <td>14.685315</td>\n",
              "      <td>15.217391</td>\n",
              "      <td>19.767442</td>\n",
              "    </tr>\n",
              "    <tr>\n",
              "      <th>Media</th>\n",
              "      <td>6.748466</td>\n",
              "      <td>13.125</td>\n",
              "      <td>20.529801</td>\n",
              "      <td>27.631579</td>\n",
              "      <td>27.152318</td>\n",
              "      <td>31.034483</td>\n",
              "      <td>38.571429</td>\n",
              "      <td>34.558824</td>\n",
              "      <td>43.925234</td>\n",
              "      <td>53.472222</td>\n",
              "      <td>46.456693</td>\n",
              "      <td>36.231884</td>\n",
              "      <td>38.345865</td>\n",
              "      <td>40.310078</td>\n",
              "      <td>35.664336</td>\n",
              "      <td>38.405797</td>\n",
              "      <td>27.906977</td>\n",
              "    </tr>\n",
              "  </tbody>\n",
              "</table>\n",
              "</div>"
            ],
            "text/plain": [
              "Year                          1999    2000       2001       2002       2003  \\\n",
              "Occupation                                                                    \n",
              "Acting, Comedy & Music   92.024540  78.125  75.496689  65.131579  61.589404   \n",
              "Government and Politics   1.226994   8.750   3.973510   7.236842  11.258278   \n",
              "Media                     6.748466  13.125  20.529801  27.631579  27.152318   \n",
              "\n",
              "Year                          2004       2005       2006       2007  \\\n",
              "Occupation                                                            \n",
              "Acting, Comedy & Music   43.448276  42.857143  42.647059  33.644860   \n",
              "Government and Politics  25.517241  18.571429  22.794118  22.429907   \n",
              "Media                    31.034483  38.571429  34.558824  43.925234   \n",
              "\n",
              "Year                          2008       2009       2010       2011  \\\n",
              "Occupation                                                            \n",
              "Acting, Comedy & Music   23.611111  26.771654  42.028986  41.353383   \n",
              "Government and Politics  22.916667  26.771654  21.739130  20.300752   \n",
              "Media                    53.472222  46.456693  36.231884  38.345865   \n",
              "\n",
              "Year                          2012       2013       2014       2015  \n",
              "Occupation                                                           \n",
              "Acting, Comedy & Music   34.108527  49.650350  46.376812  52.325581  \n",
              "Government and Politics  25.581395  14.685315  15.217391  19.767442  \n",
              "Media                    40.310078  35.664336  38.405797  27.906977  "
            ]
          },
          "metadata": {
            "tags": []
          },
          "execution_count": 13
        }
      ]
    },
    {
      "metadata": {
        "colab_type": "code",
        "id": "E8XBAr8rz_Na",
        "colab": {
          "base_uri": "https://localhost:8080/",
          "height": 341
        },
        "outputId": "21543a03-9d22-47d2-ed42-fcc1d9a9c80c"
      },
      "cell_type": "code",
      "source": [
        "# Setting the style to 'fivethirtyeight' so it looks similar to their graph \n",
        "plt.style.use('fivethirtyeight');\n",
        "\n",
        "# Defining the graph\n",
        "ax = occupation_by_year_crosstab.T.pivot_table(index='Year').plot(linewidth=2);\n",
        "\n",
        "# Setting header and sub-header\n",
        "ax.text(x=1997, y=120, s=\"Who Got To Be On 'The Daily Show'?\", fontsize=18, fontweight='bold')\n",
        "ax.text(x=1997, y=113, s=\"Occupation of guests, by year\", fontsize=14, fontweight='light')\n",
        "\n",
        "# Setting labels for our four lines\n",
        "ax.text(x=2000.5, y=85, s=\"Acting, Comedy, & Music\", fontsize=12, fontweight='bold', color=ax.get_lines()[0].get_c())\n",
        "ax.text(x=2008, y=8, s=\"Government and Politics\", fontsize=12, fontweight='bold', color=ax.get_lines()[1].get_c())\n",
        "# Changing the color for the Media line to purple\n",
        "ax.get_lines()[2].set_color(\"purple\")\n",
        "ax.text(x=2007.5, y=60, s=\"Media\", fontsize=12, fontweight='bold', color=ax.get_lines()[2].get_c())\n",
        "\n",
        "# Removing the legend, which was obscuring the line labels\n",
        "ax.get_legend().remove()\n",
        "\n",
        "# The last y tick should be 100, as we are dealing with percentages on that axis\n",
        "ax.set_ylim(0,100);\n",
        "\n",
        "# The xaxis Label \"year\" is redundant\n",
        "ax.xaxis.label.set_visible(False)\n",
        "\n",
        "# We only need four ticks along each axis, as is in the eample. Binning them into four groups\n",
        "ax.locator_params(nbins=4, axis='x')\n",
        "\n",
        "ax.locator_params(nbins=4, axis='y')\n"
      ],
      "execution_count": 97,
      "outputs": [
        {
          "output_type": "display_data",
          "data": {
            "image/png": "[encoded data removed]",
            "text/plain": [
              "<Figure size 432x288 with 1 Axes>"
            ]
          },
          "metadata": {
            "tags": []
          }
        }
      ]
    },
    {
      "metadata": {
        "colab_type": "text",
        "id": "LuacMjSf2ses"
      },
      "cell_type": "markdown",
      "source": [
        "# Part 3 — Who were the top 10 guests on _The Daily Show_?\n",
        "\n",
        "**Make a plot** that shows their names and number of appearances.\n",
        "\n",
        "**Add a title** of your choice.\n",
        "\n",
        "**Expectations:** It's ok to make a simple, quick plot: exploratory, instead of explanatory. \n",
        "\n",
        "**Optional Bonus Challenge:** You can change aesthetics and add more annotation. For example, in a relevant location, could you add the text \"19\" to show that Fareed Zakaria appeared 19 times on _The Daily Show_? (And so on, for each of the top 10 guests.)"
      ]
    },
    {
      "metadata": {
        "colab_type": "code",
        "id": "tbwfBN3HsFlh",
        "colab": {
          "base_uri": "https://localhost:8080/",
          "height": 215
        },
        "outputId": "74e43bd2-4625-4f32-e0d7-48ac8af5acc4"
      },
      "cell_type": "code",
      "source": [
        "# Sorting df by 'Guest' and defining a new dataframe 'top_guests'\n",
        "top_guests = df['Guest'].value_counts()\n",
        "\n",
        "# Selecting the first ten values for a new dataframe 'top_ten_guests'\n",
        "top_ten_guests = top_guests.head(10)\n",
        "\n",
        "# Displaying the new dataframe\n",
        "top_ten_guests"
      ],
      "execution_count": 98,
      "outputs": [
        {
          "output_type": "execute_result",
          "data": {
            "text/plain": [
              "Fareed Zakaria    19\n",
              "Denis Leary       17\n",
              "Brian Williams    16\n",
              "Paul Rudd         13\n",
              "Ricky Gervais     13\n",
              "Tom Brokaw        12\n",
              "Bill O'Reilly     10\n",
              "Will Ferrell      10\n",
              "Richard Lewis     10\n",
              "Sarah Vowell       9\n",
              "Name: Guest, dtype: int64"
            ]
          },
          "metadata": {
            "tags": []
          },
          "execution_count": 98
        }
      ]
    },
    {
      "metadata": {
        "id": "CGlJ8FSUR1N4",
        "colab_type": "code",
        "colab": {
          "base_uri": "https://localhost:8080/",
          "height": 359
        },
        "outputId": "7a3b275d-6d47-4183-a72b-e3425de27ed6"
      },
      "cell_type": "code",
      "source": [
        "# Since there are only ten entries, manually assign all items to a dictionary where the name is the guest and the value is the number of appearances\n",
        "top_ten_guests_dict = {\"Fareed Zakaria\" : 19, \"Denis Leary\" : 17, \"Brian Williams\" : 16,\n",
        "                           \"Ricky Gervais\" : 13, \"Paul Rudd\" : 13, \"Tom Brokaw\" : 12, \"Will Ferrell\" : 10, \n",
        "                           \"Richard Lewis\" : 10, \"Reza Aslan\" : 10, \"Bill O'Reilly\": 10}\n",
        "\n",
        "\n",
        "# Converting our dictionary to a pandas dataframe\n",
        "top_ten_guests = pd.DataFrame(list(top_ten_guests_dict.items()), columns=['Guest', 'Appearances'])\n",
        "\n",
        "# Confirming that the conversion was performed correctly\n",
        "top_ten_guests.head(10)"
      ],
      "execution_count": 99,
      "outputs": [
        {
          "output_type": "execute_result",
          "data": {
            "text/html": [
              "<div>\n",
              "<style scoped>\n",
              "    .dataframe tbody tr th:only-of-type {\n",
              "        vertical-align: middle;\n",
              "    }\n",
              "\n",
              "    .dataframe tbody tr th {\n",
              "        vertical-align: top;\n",
              "    }\n",
              "\n",
              "    .dataframe thead th {\n",
              "        text-align: right;\n",
              "    }\n",
              "</style>\n",
              "<table border=\"1\" class=\"dataframe\">\n",
              "  <thead>\n",
              "    <tr style=\"text-align: right;\">\n",
              "      <th></th>\n",
              "      <th>Guest</th>\n",
              "      <th>Appearances</th>\n",
              "    </tr>\n",
              "  </thead>\n",
              "  <tbody>\n",
              "    <tr>\n",
              "      <th>0</th>\n",
              "      <td>Fareed Zakaria</td>\n",
              "      <td>19</td>\n",
              "    </tr>\n",
              "    <tr>\n",
              "      <th>1</th>\n",
              "      <td>Denis Leary</td>\n",
              "      <td>17</td>\n",
              "    </tr>\n",
              "    <tr>\n",
              "      <th>2</th>\n",
              "      <td>Brian Williams</td>\n",
              "      <td>16</td>\n",
              "    </tr>\n",
              "    <tr>\n",
              "      <th>3</th>\n",
              "      <td>Ricky Gervais</td>\n",
              "      <td>13</td>\n",
              "    </tr>\n",
              "    <tr>\n",
              "      <th>4</th>\n",
              "      <td>Paul Rudd</td>\n",
              "      <td>13</td>\n",
              "    </tr>\n",
              "    <tr>\n",
              "      <th>5</th>\n",
              "      <td>Tom Brokaw</td>\n",
              "      <td>12</td>\n",
              "    </tr>\n",
              "    <tr>\n",
              "      <th>6</th>\n",
              "      <td>Will Ferrell</td>\n",
              "      <td>10</td>\n",
              "    </tr>\n",
              "    <tr>\n",
              "      <th>7</th>\n",
              "      <td>Richard Lewis</td>\n",
              "      <td>10</td>\n",
              "    </tr>\n",
              "    <tr>\n",
              "      <th>8</th>\n",
              "      <td>Reza Aslan</td>\n",
              "      <td>10</td>\n",
              "    </tr>\n",
              "    <tr>\n",
              "      <th>9</th>\n",
              "      <td>Bill O'Reilly</td>\n",
              "      <td>10</td>\n",
              "    </tr>\n",
              "  </tbody>\n",
              "</table>\n",
              "</div>"
            ],
            "text/plain": [
              "            Guest  Appearances\n",
              "0  Fareed Zakaria           19\n",
              "1     Denis Leary           17\n",
              "2  Brian Williams           16\n",
              "3   Ricky Gervais           13\n",
              "4       Paul Rudd           13\n",
              "5      Tom Brokaw           12\n",
              "6    Will Ferrell           10\n",
              "7   Richard Lewis           10\n",
              "8      Reza Aslan           10\n",
              "9   Bill O'Reilly           10"
            ]
          },
          "metadata": {
            "tags": []
          },
          "execution_count": 99
        }
      ]
    },
    {
      "metadata": {
        "id": "Zz82zsgOOzzV",
        "colab_type": "code",
        "colab": {
          "base_uri": "https://localhost:8080/",
          "height": 302
        },
        "outputId": "1d8ba467-4b36-476e-ef8c-964184a756ba"
      },
      "cell_type": "code",
      "source": [
        "# Plotting top appearing guests with a barh graph\n",
        "ax = top_ten_guests.plot.barh('Guest', width=0.9, title=\"Top Appearing Guests on The Daily Show\");\n",
        "\n",
        "# Binning the x-ticks so I don't get any more \"half-appearances\" \n",
        "ax.locator_params(nbins=12, axis='x')\n"
      ],
      "execution_count": 109,
      "outputs": [
        {
          "output_type": "display_data",
          "data": {
            "image/png": "[encoded data removed]",
            "text/plain": [
              "<Figure size 432x288 with 1 Axes>"
            ]
          },
          "metadata": {
            "tags": []
          }
        }
      ]
    }
  ]
}